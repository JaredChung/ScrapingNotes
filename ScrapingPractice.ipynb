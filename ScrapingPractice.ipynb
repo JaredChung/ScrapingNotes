{
 "cells": [
  {
   "cell_type": "markdown",
   "metadata": {},
   "source": [
    "# Using Urllib and BeautifulSoup to Scrap Website Data"
   ]
  },
  {
   "cell_type": "code",
   "execution_count": 22,
   "metadata": {
    "collapsed": true
   },
   "outputs": [],
   "source": [
    "import urllib2\n",
    "from bs4 import BeautifulSoup"
   ]
  },
  {
   "cell_type": "code",
   "execution_count": 27,
   "metadata": {
    "collapsed": true
   },
   "outputs": [],
   "source": [
    "source = urllib2.urlopen('http://google.com')"
   ]
  },
  {
   "cell_type": "code",
   "execution_count": 6,
   "metadata": {
    "collapsed": false
   },
   "outputs": [],
   "source": [
    "html = source.read()"
   ]
  },
  {
   "cell_type": "code",
   "execution_count": 28,
   "metadata": {
    "collapsed": false
   },
   "outputs": [],
   "source": [
    "soup = BeautifulSoup(source,\"lxml\")"
   ]
  },
  {
   "cell_type": "code",
   "execution_count": 29,
   "metadata": {
    "collapsed": false
   },
   "outputs": [
    {
     "data": {
      "text/plain": [
       "[<a class=\"gb1\" href=\"http://www.google.com.au/imghp?hl=en&amp;tab=wi\">Images</a>,\n",
       " <a class=\"gb1\" href=\"http://maps.google.com.au/maps?hl=en&amp;tab=wl\">Maps</a>,\n",
       " <a class=\"gb1\" href=\"https://play.google.com/?hl=en&amp;tab=w8\">Play</a>,\n",
       " <a class=\"gb1\" href=\"http://www.youtube.com/?gl=AU&amp;tab=w1\">YouTube</a>,\n",
       " <a class=\"gb1\" href=\"http://news.google.com.au/nwshp?hl=en&amp;tab=wn\">News</a>,\n",
       " <a class=\"gb1\" href=\"https://mail.google.com/mail/?tab=wm\">Gmail</a>,\n",
       " <a class=\"gb1\" href=\"https://drive.google.com/?tab=wo\">Drive</a>,\n",
       " <a class=\"gb1\" href=\"https://www.google.com.au/intl/en/options/\" style=\"text-decoration:none\"><u>More</u> \\xbb</a>,\n",
       " <a class=\"gb4\" href=\"http://www.google.com.au/history/optout?hl=en\">Web History</a>,\n",
       " <a class=\"gb4\" href=\"/preferences?hl=en\">Settings</a>,\n",
       " <a class=\"gb4\" href=\"https://accounts.google.com/ServiceLogin?hl=en&amp;passive=true&amp;continue=http://www.google.com.au/%3Fgfe_rd%3Dcr%26ei%3D-Zt0Vt_MO-jN8AesooCwAw\" id=\"gb_70\" target=\"_top\">Sign in</a>,\n",
       " <a href=\"/advanced_search?hl=en-AU&amp;authuser=0\">Advanced search</a>,\n",
       " <a href=\"/language_tools?hl=en-AU&amp;authuser=0\">Language tools</a>,\n",
       " <a href=\"/intl/en/ads/\">Advertising\\xa0Programmes</a>,\n",
       " <a href=\"/services/\">Business Solutions</a>,\n",
       " <a href=\"https://plus.google.com/115477067087672475993\" rel=\"publisher\">+Google</a>,\n",
       " <a href=\"/intl/en/about.html\">About Google</a>,\n",
       " <a href=\"http://www.google.com.au/setprefdomain?prefdom=US&amp;sig=__G2AtEGET_jJLd5rpBGWkZuRm4cc%3D\" id=\"fehl\">Google.com</a>,\n",
       " <a href=\"/intl/en/policies/privacy/\">Privacy</a>,\n",
       " <a href=\"/intl/en/policies/terms/\">Terms</a>]"
      ]
     },
     "execution_count": 29,
     "metadata": {},
     "output_type": "execute_result"
    }
   ],
   "source": [
    "soup.find_all('a')"
   ]
  },
  {
   "cell_type": "code",
   "execution_count": 1,
   "metadata": {
    "collapsed": false
   },
   "outputs": [
    {
     "name": "stdout",
     "output_type": "stream",
     "text": [
      " Volume in drive C has no label.\n",
      " Volume Serial Number is 32B4-6C71\n",
      "\n",
      " Directory of C:\\Users\\Jared Chung\\Desktop\\ScrapingNotes\n",
      "\n",
      "19/12/2015  10:52 AM    <DIR>          .\n",
      "19/12/2015  10:52 AM    <DIR>          ..\n",
      "19/12/2015  09:15 AM    <DIR>          .ipynb_checkpoints\n",
      "11/04/2014  07:04 AM    <DIR>          python-web-scraping-tutorial-master\n",
      "13/12/2015  03:35 PM                17 README.md\n",
      "19/12/2015  10:52 AM             3,715 ScrapingPractice.ipynb\n",
      "               2 File(s)          3,732 bytes\n",
      "               4 Dir(s)  208,828,981,248 bytes free\n"
     ]
    }
   ],
   "source": [
    "ls"
   ]
  },
  {
   "cell_type": "code",
   "execution_count": 3,
   "metadata": {
    "collapsed": false
   },
   "outputs": [
    {
     "name": "stdout",
     "output_type": "stream",
     "text": [
      " Volume in drive C has no label.\n",
      " Volume Serial Number is 32B4-6C71\n",
      "\n",
      " Directory of C:\\Users\\Jared Chung\\Desktop\\ScrapingNotes\\python-web-scraping-tutorial-master\n",
      "\n",
      "11/04/2014  07:04 AM    <DIR>          .\n",
      "11/04/2014  07:04 AM    <DIR>          ..\n",
      "11/04/2014  07:04 AM                30 .gitignore\n",
      "11/04/2014  07:04 AM             2,669 bs_scraper.py\n",
      "11/04/2014  07:04 AM               401 csv_scraper.py\n",
      "11/04/2014  07:04 AM    <DIR>          data\n",
      "11/04/2014  07:04 AM               364 family_tree.py\n",
      "11/04/2014  07:04 AM               252 json_scraper.py\n",
      "11/04/2014  07:04 AM             2,518 README.md\n",
      "11/04/2014  07:04 AM               111 requirements.txt\n",
      "11/04/2014  07:04 AM             2,718 scrape_netflix.py\n",
      "11/04/2014  07:04 AM             2,663 scraper.py\n",
      "11/04/2014  07:04 AM                62 start_selenium.py\n",
      "11/04/2014  07:04 AM               564 xlsx_scraper.py\n",
      "11/04/2014  07:04 AM            16,532 xlsx2csv.py\n",
      "11/04/2014  07:04 AM               220 xpath_intro.py\n",
      "              13 File(s)         29,104 bytes\n",
      "               3 Dir(s)  208,828,157,952 bytes free\n"
     ]
    }
   ],
   "source": [
    "ls"
   ]
  },
  {
   "cell_type": "code",
   "execution_count": 5,
   "metadata": {
    "collapsed": false
   },
   "outputs": [],
   "source": [
    "%run family_tree.py"
   ]
  },
  {
   "cell_type": "code",
   "execution_count": 12,
   "metadata": {
    "collapsed": false
   },
   "outputs": [
    {
     "data": {
      "text/plain": [
       "<bound method Tag.find_previous_sibling of <div class=\"navblock\">\\n<ul>\\n<li>Boo</li>\\n<li>Far</li>\\n</ul>\\n</div>>"
      ]
     },
     "execution_count": 12,
     "metadata": {},
     "output_type": "execute_result"
    }
   ],
   "source": [
    "current_elem.find_previous_sibling"
   ]
  },
  {
   "cell_type": "code",
   "execution_count": 13,
   "metadata": {
    "collapsed": false
   },
   "outputs": [
    {
     "data": {
      "text/plain": [
       "<bound method Tag.find_parent of <div class=\"navblock\">\\n<ul>\\n<li>Boo</li>\\n<li>Far</li>\\n</ul>\\n</div>>"
      ]
     },
     "execution_count": 13,
     "metadata": {},
     "output_type": "execute_result"
    }
   ],
   "source": [
    "current_elem.findParent"
   ]
  },
  {
   "cell_type": "code",
   "execution_count": null,
   "metadata": {
    "collapsed": true
   },
   "outputs": [],
   "source": []
  }
 ],
 "metadata": {
  "kernelspec": {
   "display_name": "Python 2",
   "language": "python",
   "name": "python2"
  },
  "language_info": {
   "codemirror_mode": {
    "name": "ipython",
    "version": 2
   },
   "file_extension": ".py",
   "mimetype": "text/x-python",
   "name": "python",
   "nbconvert_exporter": "python",
   "pygments_lexer": "ipython2",
   "version": "2.7.11"
  }
 },
 "nbformat": 4,
 "nbformat_minor": 0
}
